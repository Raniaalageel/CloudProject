{
 "cells": [
  {
   "cell_type": "code",
   "execution_count": 1,
   "metadata": {},
   "outputs": [
    {
     "name": "stderr",
     "output_type": "stream",
     "text": [
      "/Users/raniaalageel/opt/anaconda3/lib/python3.8/site-packages/pandas/core/computation/expressions.py:20: UserWarning: Pandas requires version '2.7.3' or newer of 'numexpr' (version '2.7.1' currently installed).\n",
      "  from pandas.core.computation.check import NUMEXPR_INSTALLED\n"
     ]
    }
   ],
   "source": [
    "import pandas as pd \n",
    "import re # Regular Expression"
   ]
  },
  {
   "cell_type": "code",
   "execution_count": 2,
   "metadata": {},
   "outputs": [],
   "source": [
    "collector = []\n",
    "data = pd.read_csv('data_with_normalization.csv')"
   ]
  },
  {
   "cell_type": "code",
   "execution_count": 3,
   "metadata": {},
   "outputs": [
    {
     "data": {
      "text/html": [
       "<div>\n",
       "<style scoped>\n",
       "    .dataframe tbody tr th:only-of-type {\n",
       "        vertical-align: middle;\n",
       "    }\n",
       "\n",
       "    .dataframe tbody tr th {\n",
       "        vertical-align: top;\n",
       "    }\n",
       "\n",
       "    .dataframe thead th {\n",
       "        text-align: right;\n",
       "    }\n",
       "</style>\n",
       "<table border=\"1\" class=\"dataframe\">\n",
       "  <thead>\n",
       "    <tr style=\"text-align: right;\">\n",
       "      <th></th>\n",
       "      <th>Tweets</th>\n",
       "    </tr>\n",
       "  </thead>\n",
       "  <tbody>\n",
       "    <tr>\n",
       "      <th>0</th>\n",
       "      <td>@NWTO0 مكثرين فيمتو</td>\n",
       "    </tr>\n",
       "    <tr>\n",
       "      <th>1</th>\n",
       "      <td>@fa8ad_q8 شخباري فيمتو</td>\n",
       "    </tr>\n",
       "    <tr>\n",
       "      <th>2</th>\n",
       "      <td>واله شعور حلو عندك طفل وكل شيء جديد عليه نصوره...</td>\n",
       "    </tr>\n",
       "    <tr>\n",
       "      <th>3</th>\n",
       "      <td>@FAISAL26527162 مكثر فيمتو الاخ</td>\n",
       "    </tr>\n",
       "    <tr>\n",
       "      <th>4</th>\n",
       "      <td>@fhd_to فيمتو</td>\n",
       "    </tr>\n",
       "    <tr>\n",
       "      <th>...</th>\n",
       "      <td>...</td>\n",
       "    </tr>\n",
       "    <tr>\n",
       "      <th>2836</th>\n",
       "      <td>@2roL_ يحسبونها فيمتو</td>\n",
       "    </tr>\n",
       "    <tr>\n",
       "      <th>2837</th>\n",
       "      <td>@Oqoq5M مكثر فيمتو اله يحفظك</td>\n",
       "    </tr>\n",
       "    <tr>\n",
       "      <th>2838</th>\n",
       "      <td>@BadrAlsabhan كاس فيمتو</td>\n",
       "    </tr>\n",
       "    <tr>\n",
       "      <th>2839</th>\n",
       "      <td>@ixij3 هذا وانا مقله فيمتو 😞</td>\n",
       "    </tr>\n",
       "    <tr>\n",
       "      <th>2840</th>\n",
       "      <td>@15rb فيمتو</td>\n",
       "    </tr>\n",
       "  </tbody>\n",
       "</table>\n",
       "<p>2841 rows × 1 columns</p>\n",
       "</div>"
      ],
      "text/plain": [
       "                                                 Tweets\n",
       "0                                   @NWTO0 مكثرين فيمتو\n",
       "1                                @fa8ad_q8 شخباري فيمتو\n",
       "2     واله شعور حلو عندك طفل وكل شيء جديد عليه نصوره...\n",
       "3                       @FAISAL26527162 مكثر فيمتو الاخ\n",
       "4                                         @fhd_to فيمتو\n",
       "...                                                 ...\n",
       "2836                              @2roL_ يحسبونها فيمتو\n",
       "2837                       @Oqoq5M مكثر فيمتو اله يحفظك\n",
       "2838                            @BadrAlsabhan كاس فيمتو\n",
       "2839                       @ixij3 هذا وانا مقله فيمتو 😞\n",
       "2840                                        @15rb فيمتو\n",
       "\n",
       "[2841 rows x 1 columns]"
      ]
     },
     "execution_count": 3,
     "metadata": {},
     "output_type": "execute_result"
    }
   ],
   "source": [
    "data"
   ]
  },
  {
   "cell_type": "code",
   "execution_count": 4,
   "metadata": {},
   "outputs": [],
   "source": [
    "def remove_url_hashtags_mentions_func(text):\n",
    " text = re.sub(r'(@|htps?)\\S+|#', '', text)\n",
    " return text"
   ]
  },
  {
   "cell_type": "code",
   "execution_count": 5,
   "metadata": {},
   "outputs": [],
   "source": [
    "\n",
    "\n",
    "\n",
    "\n",
    "#  Link: \n",
    "# def remove_url_func(text):\n",
    "#     return re.sub(r'https?://\\S+|www\\.\\S+', '', text)\n",
    "\n",
    "# Hashtag:\n",
    "# def remove_Hashtag_func(text):\n",
    "#     return text.strip(\"#\")\n",
    "\n",
    "# string = \"This tweet is example #key1_key2_key3\"\n",
    "# string = string.strip(\"#\")\n",
    "\n",
    "# mention: \n",
    "# def remove_mention_func(text):\n",
    "# text = re.sub(‘@[^\\s]+’ , ‘ ‘ , text)\n",
    "# text = re.sub(‘[/\\W+/g]’ , ‘ ‘ , text)\n",
    "# text = re.sub(‘[_]’ , ‘ ‘ , text)\n",
    "# return text \n",
    "\n",
    " \n",
    "# data['Tweets'] = data['Tweets'].apply(remove_url_func)\n",
    "# data['Tweets'] = data['Tweets'].apply(remove_Hashtag_func)\n",
    "# data['Tweets'] = data['Tweets'].apply(remove_mention_func)\n",
    "\n",
    "data['Tweets'] = data['Tweets'].apply(lambda x: remove_url_hashtags_mentions_func(x))\n",
    "data.to_csv(\"Data_with_Text_Cleaning3.csv\" , index= False , encoding='utf-8-sig')\n",
    "\n"
   ]
  },
  {
   "cell_type": "code",
   "execution_count": null,
   "metadata": {},
   "outputs": [],
   "source": []
  }
 ],
 "metadata": {
  "kernelspec": {
   "display_name": "pandas",
   "language": "python",
   "name": "python3"
  },
  "language_info": {
   "codemirror_mode": {
    "name": "ipython",
    "version": 3
   },
   "file_extension": ".py",
   "mimetype": "text/x-python",
   "name": "python",
   "nbconvert_exporter": "python",
   "pygments_lexer": "ipython3",
   "version": "3.8.5"
  },
  "orig_nbformat": 4
 },
 "nbformat": 4,
 "nbformat_minor": 2
}
